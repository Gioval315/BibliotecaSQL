{
  "nbformat": 4,
  "nbformat_minor": 0,
  "metadata": {
    "colab": {
      "provenance": [],
      "authorship_tag": "ABX9TyPgM4II5Uxp3usrNLSKFCVm",
      "include_colab_link": true
    },
    "kernelspec": {
      "name": "python3",
      "display_name": "Python 3"
    },
    "language_info": {
      "name": "python"
    }
  },
  "cells": [
    {
      "cell_type": "markdown",
      "metadata": {
        "id": "view-in-github",
        "colab_type": "text"
      },
      "source": [
        "<a href=\"https://colab.research.google.com/github/Gioval315/BibliotecaSQL/blob/main/laboratorio_7.ipynb\" target=\"_parent\"><img src=\"https://colab.research.google.com/assets/colab-badge.svg\" alt=\"Open In Colab\"/></a>"
      ]
    },
    {
      "cell_type": "markdown",
      "source": [
        "Manejo de series y CSV"
      ],
      "metadata": {
        "id": "ZYXmqzhogZu7"
      }
    },
    {
      "cell_type": "markdown",
      "source": [
        "Crear un DataFrame con los nombres, profesión y países de 8 personas, y luego imprimir el DataFrame.r datos desde pandas *texto en cursiva*"
      ],
      "metadata": {
        "id": "0gqPBledhwKT"
      }
    },
    {
      "cell_type": "code",
      "source": [
        "import pandas as pd\n",
        "data = {'Nombre': ['Andres' ,'Blanca', 'Jorge', 'Lorena', 'Linda', 'Richard', 'Derly', 'Giovanni'],\n",
        "        'Profesion': ['Ingeniero' ,'Medica', 'Abogado', 'Diseñadora', 'Administradora', 'Ingeniero', 'Administradora', 'Economista'],\n",
        "        'Pais': ['Brasil' ,'Rusia', 'India', 'China', 'Colombia', 'Colombia', 'Estados unidos', 'Alemania']}\n",
        "df = pd.DataFrame(data)\n",
        "print(df)"
      ],
      "metadata": {
        "colab": {
          "base_uri": "https://localhost:8080/"
        },
        "id": "0UlGcA0vlgMG",
        "outputId": "fca7d1fa-848a-458f-cc8b-64ddb2b8c402"
      },
      "execution_count": 5,
      "outputs": [
        {
          "output_type": "stream",
          "name": "stdout",
          "text": [
            "     Nombre       Profesion            Pais\n",
            "0    Andres       Ingeniero          Brasil\n",
            "1    Blanca          Medica           Rusia\n",
            "2     Jorge         Abogado           India\n",
            "3    Lorena      Diseñadora           China\n",
            "4     Linda  Administradora        Colombia\n",
            "5   Richard       Ingeniero        Colombia\n",
            "6     Derly  Administradora  Estados unidos\n",
            "7  Giovanni      Economista        Alemania\n"
          ]
        }
      ]
    }
  ]
}