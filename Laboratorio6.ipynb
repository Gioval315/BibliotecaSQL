{
  "nbformat": 4,
  "nbformat_minor": 0,
  "metadata": {
    "colab": {
      "provenance": [],
      "authorship_tag": "ABX9TyN+owvYv/ebFRG9MIr1vXy3",
      "include_colab_link": true
    },
    "kernelspec": {
      "name": "python3",
      "display_name": "Python 3"
    },
    "language_info": {
      "name": "python"
    }
  },
  "cells": [
    {
      "cell_type": "markdown",
      "metadata": {
        "id": "view-in-github",
        "colab_type": "text"
      },
      "source": [
        "<a href=\"https://colab.research.google.com/github/Gioval315/BibliotecaSQL/blob/main/Laboratorio6.ipynb\" target=\"_parent\"><img src=\"https://colab.research.google.com/assets/colab-badge.svg\" alt=\"Open In Colab\"/></a>"
      ]
    },
    {
      "cell_type": "markdown",
      "source": [
        "Desarrollo de laboratorio 6 Phyton"
      ],
      "metadata": {
        "id": "3WqZtcS2ZdMC"
      }
    },
    {
      "cell_type": "markdown",
      "source": [
        "1.\tAlgoritmo para Preparar un Té: Este algoritmo describe los pasos para preparar un té y lo implementamos en Python.\n",
        "\n",
        "## pasos\n",
        "\n",
        "1. Obtener cantidades de tasas:\n",
        "2  Hervir el agua en una hoya.\n",
        "3. Dejar en fuego alto por 5 minutos.\n",
        "4  repartir el te en la tasas\n",
        "5. agregar la infusion de te durante 5 minutos\n",
        "5  Retirar la bolsas de te y dusfrutar.\n"
      ],
      "metadata": {
        "id": "Qky5xhXXjcnq"
      }
    },
    {
      "cell_type": "code",
      "source": [
        "tasas = int((input(\"para cuantas personas es el te?: \")))\n",
        "print(\"1. Procedimientos para preparar un te.\")\n",
        "print(f\"2. en una hoya pon   {tasas}  tasa de agua mas la mitad de una tasa\")\n",
        "print(\"3. Dejala en fuego alto por 5 minutos hasta hervir\")\n",
        "print(f\"4. reparte las  {tasas}  tasa nuevamente y pon el sobre de te por 5 minutos\")\n",
        "print(\"5. Quita la bolsa despues de pasar el tiempo\")\n",
        "print(f\"6. disfruta con tus  {tasas}  amigos o familiares\")"
      ],
      "metadata": {
        "id": "EPxihsWXjdRf"
      },
      "execution_count": null,
      "outputs": []
    },
    {
      "cell_type": "markdown",
      "source": [
        "2.\tCálculo del Promedio de Notas: Utilizar variables y tipos de datos para almacenar las notas de un estudiante, y un operador aritmético para calcular el promedio.\n",
        "\n",
        "##Pasos\n",
        "\n",
        "1. Tener el resultado de las notas\n",
        "2. Sumar todas la notas de los estudiantes\n",
        "3. contar la cantidad de estudiantes\n",
        "4. dividir la suma de las notas totales sobre la cantidad de estudiantes"
      ],
      "metadata": {
        "id": "PyhpEzHKlMAx"
      }
    },
    {
      "cell_type": "code",
      "source": [
        "Notas = [5, 3, 4, 5]\n",
        "Promedio = sum(Notas)/ len(Notas)\n",
        "print(f\"el promedio de notas es: {Promedio}\")"
      ],
      "metadata": {
        "id": "aLTyBDz8pIUB"
      },
      "execution_count": null,
      "outputs": []
    },
    {
      "cell_type": "markdown",
      "source": [
        "Utilizar un bucle for y una condicional para contar cuántas vocales hay en una cadena de texto ingresada por el usuario.\n",
        "\n",
        "## Pasos\n",
        "\n",
        "1.\tsolicitar al usuario si el numero\n",
        "2.\tconvertir el nuemero ingresado a numero entero\n",
        "3.\t dividir entre 2\n",
        "4. si el residuo de mayor a 0 es impar si es 0 es par"
      ],
      "metadata": {
        "id": "3rp-nN9kcnm4"
      }
    },
    {
      "cell_type": "code",
      "source": [
        "numero = int(input(\"Ingrese un número:\"))\n",
        "\n",
        "if numero % 2 == 0:\n",
        "  print(numero, \"es par.\")\n",
        "else:\n",
        "  print(numero, \"es impar.\")\n"
      ],
      "metadata": {
        "id": "UjhKDeLWcnwg"
      },
      "execution_count": null,
      "outputs": []
    },
    {
      "cell_type": "markdown",
      "source": [
        "4.\tBucle for para Imprimir Números del 1 al 5: Usar un bucle for para mostrar los números del 1 al 5 y combinar los operadores aritméticos para mostrar si son pares o impares.\n",
        "\n",
        "-\tPasos:\n",
        "-\t1. Para cada número desde 1 hasta 5:\n",
        "-\t2. Si el resto de dividir el número entre 2 es igual a 0, entonces:\n",
        "-\t3. Imprimir: \"El número [número] es par.\"\n",
        "-\tSi no, entonces:\n",
        "-\tImprimir: \"El número [número] es impar.\"\n"
      ],
      "metadata": {
        "id": "0BhLwvquc9d5"
      }
    },
    {
      "cell_type": "code",
      "source": [
        "for numero in range(1, 6):\n",
        "    if numero % 2 == 0:\n",
        "        print(numero, \"es par.\")\n",
        "    else:\n",
        "        print(numero, \"es impar.\")\n"
      ],
      "metadata": {
        "id": "DrUc88Lcc9vN"
      },
      "execution_count": null,
      "outputs": []
    },
    {
      "cell_type": "markdown",
      "source": [
        "Ejercicio 5  5.\tConvertir Grados Celsius a Fahrenheit: Usar una función para convertir grados Celsius a Fahrenheit. La fórmula para la conversión es Fahrenheit = (Celsius * 9/5) + 32.\n",
        "## Pasos\n",
        "\n",
        "*   Crear la variable temperatura en grados a celcius\n",
        "*   le decimos al usuario el objeto a programar\n",
        "*   Solicitamos al usuario a los grados celsius\n",
        "*   Validacion de la informacion ingresada por el usuario\n",
        "*   Aplicar formula\n",
        "*   imprimir el resultado\n",
        "\n"
      ],
      "metadata": {
        "id": "Xn1-__MeaeD6"
      }
    },
    {
      "cell_type": "code",
      "source": [
        "\n",
        "print (\"Hola este programa trasforam los grados celsius a fahrenheit\") #Avisamos el objeto a programar\n",
        "\n",
        "dato_usuario = (input(\"ingrese los grados en celsius: \"))\n",
        "\n",
        "Temp_celsius = float(dato_usuario)\n",
        "\n",
        "grados_fahrenheit = (Temp_celsius * 9/5) + 32\n",
        "\n",
        "print('los grados fahrenheit son:  ', grados_fahrenheit)\n",
        "\n"
      ],
      "metadata": {
        "colab": {
          "base_uri": "https://localhost:8080/"
        },
        "id": "Lrav0Jcaakfy",
        "outputId": "5043ac72-09c5-4d80-8f8c-40760a09d99e"
      },
      "execution_count": null,
      "outputs": [
        {
          "output_type": "stream",
          "name": "stdout",
          "text": [
            "Hola este programa trasforam los grados celsius a fahrenheit\n",
            "ingrese los grados en celsius: 15\n",
            "los grados fahrenheit son:   59.0\n"
          ]
        }
      ]
    },
    {
      "cell_type": "markdown",
      "source": [
        "6.\tContar la Cantidad de Vocales en una Cadena de Texto: Utilizar un bucle for y una condicional para contar cuántas vocales hay en una cadena de texto ingresada por el usuario.\n",
        "\n",
        "##\tPasos:\n",
        "1.\tSolicitar un texto al usuario\n",
        "2.\tCrear variable para contar las vocales\n",
        "3.\tCrear bucle para cada letra del texto\n",
        "4.\tEspecificar que se debe contar cada vocal\n",
        "5.\tMostrar en pantalla el resultado\n"
      ],
      "metadata": {
        "id": "-on1eFeSdaLy"
      }
    },
    {
      "cell_type": "code",
      "source": [
        "texto = input(\"ingresar texto: \")\n",
        "contar_vocales = 0\n",
        "for i in texto.lower():\n",
        "    if i in \"aeiou\":\n",
        "        contar_vocales = contar_vocales + 1\n",
        "print(f\"la frase continene {contar_vocales} vocales.\")\n"
      ],
      "metadata": {
        "id": "JChlGSsqdaTi"
      },
      "execution_count": null,
      "outputs": []
    },
    {
      "cell_type": "markdown",
      "source": [
        "7.\tCalcular el Factorial de un Número: Usar un bucle while para calcular el factorial de un número ingresado por el usuario. El factorial de un número n (n!) es el producto de todos los números enteros positivos menores o iguales a n.\n",
        "\n",
        "## Pasos:\n",
        "-\t1. Pedir al usuario que ingrese el numero\n",
        "-\t2.  Dar valor a la variable en 1\n",
        "-\t3. Calcular el factorial usando un bucle while\n"
      ],
      "metadata": {
        "id": "q9fQLltcVu8_"
      }
    },
    {
      "cell_type": "code",
      "source": [
        "numero = int(input(\"Ingrese un número para calcular su factorial: \"))\n",
        "factorial = 1\n",
        "\tcontador = numero\n",
        "while contador > 1:5\n",
        "    factorial = factorial * contador\n",
        "    contador = contador - 1\n",
        "print(f\"El factorial de {numero} es: {factorial}\")\n"
      ],
      "metadata": {
        "id": "4iuT0sRvVu0Y"
      },
      "execution_count": null,
      "outputs": []
    }
  ]
}