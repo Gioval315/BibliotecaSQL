{
  "nbformat": 4,
  "nbformat_minor": 0,
  "metadata": {
    "colab": {
      "provenance": [],
      "authorship_tag": "ABX9TyO7vLMdUVNmT/u6HxZnWG5o",
      "include_colab_link": true
    },
    "kernelspec": {
      "name": "python3",
      "display_name": "Python 3"
    },
    "language_info": {
      "name": "python"
    }
  },
  "cells": [
    {
      "cell_type": "markdown",
      "metadata": {
        "id": "view-in-github",
        "colab_type": "text"
      },
      "source": [
        "<a href=\"https://colab.research.google.com/github/Gioval315/BibliotecaSQL/blob/main/Laboratorio6.ipynb\" target=\"_parent\"><img src=\"https://colab.research.google.com/assets/colab-badge.svg\" alt=\"Open In Colab\"/></a>"
      ]
    },
    {
      "cell_type": "markdown",
      "source": [
        "Desarrollo de laboratorio 6 Phyton"
      ],
      "metadata": {
        "id": "3WqZtcS2ZdMC"
      }
    },
    {
      "cell_type": "markdown",
      "source": [
        "1.\tAlgoritmo para Preparar un Té: Este algoritmo describe los pasos para preparar un té y lo implementamos en Python.\n",
        "\n",
        "## pasos\n",
        "\n",
        "1. Obtener cantidades de tasas:\n",
        "2  Hervir el agua en una hoya.\n",
        "3. Dejar en fuego alto por 5 minutos.\n",
        "4  repartir el te en la tasas\n",
        "5. agregar la infusion de te durante 5 minutos\n",
        "5  Retirar la bolsas de te y dusfrutar.\n"
      ],
      "metadata": {
        "id": "Qky5xhXXjcnq"
      }
    },
    {
      "cell_type": "code",
      "source": [
        "tasas = int((input(\"para cuantas personas es el te?: \")))\n",
        "print(\"1. Procedimientos para preparar un te.\")\n",
        "print(f\"2. en una hoya pon   {tasas}  tasa de agua mas la mitad de una tasa\")\n",
        "print(\"3. Dejala en fuego alto por 5 minutos hasta hervir\")\n",
        "print(f\"4. reparte las  {tasas}  tasa nuevamente y pon el sobre de te por 5 minutos\")\n",
        "print(\"5. Quita la bolsa despues de pasar el tiempo\")\n",
        "print(f\"6. disfruta con tus  {tasas}  amigos o familiares\")"
      ],
      "metadata": {
        "id": "EPxihsWXjdRf"
      },
      "execution_count": null,
      "outputs": []
    },
    {
      "cell_type": "markdown",
      "source": [
        "2.\tCálculo del Promedio de Notas: Utilizar variables y tipos de datos para almacenar las notas de un estudiante, y un operador aritmético para calcular el promedio.\n",
        "\n",
        "##Pasos\n",
        "\n",
        "1. Tener el resultado de las notas\n",
        "2. Sumar todas la notas de los estudiantes\n",
        "3. contar la cantidad de estudiantes\n",
        "4. dividir la suma de las notas totales sobre la cantidad de estudiantes"
      ],
      "metadata": {
        "id": "PyhpEzHKlMAx"
      }
    },
    {
      "cell_type": "code",
      "source": [
        "Notas = [5, 3, 4, 5]\n",
        "Promedio = sum(Notas)/ len(Notas)\n",
        "print(f\"el promedio de notas es: {Promedio}\")"
      ],
      "metadata": {
        "id": "aLTyBDz8pIUB"
      },
      "execution_count": null,
      "outputs": []
    },
    {
      "cell_type": "markdown",
      "source": [
        "Utilizar un bucle for y una condicional para contar cuántas vocales hay en una cadena de texto ingresada por el usuario.\n",
        "\n",
        "## Pasos\n",
        "\n",
        "1.\tsolicitar al usuario si el numero\n",
        "2.\tconvertir el nuemero ingresado a numero entero\n",
        "3.\t dividir entre 2\n",
        "4. si el residuo de mayor a 0 es impar si es 0 es par"
      ],
      "metadata": {
        "id": "3rp-nN9kcnm4"
      }
    },
    {
      "cell_type": "code",
      "source": [
        "numero = int(input(\"Ingrese un número:\"))\n",
        "\n",
        "if numero % 2 == 0:\n",
        "  print(numero, \"es par.\")\n",
        "else:\n",
        "  print(numero, \"es impar.\")\n"
      ],
      "metadata": {
        "id": "UjhKDeLWcnwg"
      },
      "execution_count": null,
      "outputs": []
    },
    {
      "cell_type": "markdown",
      "source": [
        "Ejercicio 5  5.\tConvertir Grados Celsius a Fahrenheit: Usar una función para convertir grados Celsius a Fahrenheit. La fórmula para la conversión es Fahrenheit = (Celsius * 9/5) + 32.\n",
        "## Pasos\n",
        "\n",
        "*   Crear la variable temperatura en grados a celcius\n",
        "*   le decimos al usuario el objeto a programar\n",
        "*   Solicitamos al usuario a los grados celsius\n",
        "*   Validacion de la informacion ingresada por el usuario\n",
        "*   Aplicar formula\n",
        "*   imprimir el resultado\n",
        "\n"
      ],
      "metadata": {
        "id": "Xn1-__MeaeD6"
      }
    },
    {
      "cell_type": "code",
      "source": [
        "\n",
        "print (\"Hola este programa trasforam los grados celsius a fahrenheit\") #Avisamos el objeto a programar\n",
        "\n",
        "dato_usuario = (input(\"ingrese los grados en celsius: \"))\n",
        "\n",
        "Temp_celsius = float(dato_usuario)\n",
        "\n",
        "grados_fahrenheit = (Temp_celsius * 9/5) + 32\n",
        "\n",
        "print('los grados fahrenheit son:  ', grados_fahrenheit)\n",
        "\n"
      ],
      "metadata": {
        "colab": {
          "base_uri": "https://localhost:8080/"
        },
        "id": "Lrav0Jcaakfy",
        "outputId": "5043ac72-09c5-4d80-8f8c-40760a09d99e"
      },
      "execution_count": null,
      "outputs": [
        {
          "output_type": "stream",
          "name": "stdout",
          "text": [
            "Hola este programa trasforam los grados celsius a fahrenheit\n",
            "ingrese los grados en celsius: 15\n",
            "los grados fahrenheit son:   59.0\n"
          ]
        }
      ]
    }
  ]
}