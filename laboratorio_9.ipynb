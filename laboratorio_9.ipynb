{
  "nbformat": 4,
  "nbformat_minor": 0,
  "metadata": {
    "colab": {
      "provenance": [],
      "authorship_tag": "ABX9TyOO91VsZYovsLtAA/p4hcut",
      "include_colab_link": true
    },
    "kernelspec": {
      "name": "python3",
      "display_name": "Python 3"
    },
    "language_info": {
      "name": "python"
    }
  },
  "cells": [
    {
      "cell_type": "markdown",
      "metadata": {
        "id": "view-in-github",
        "colab_type": "text"
      },
      "source": [
        "<a href=\"https://colab.research.google.com/github/Gioval315/BibliotecaSQL/blob/main/laboratorio_9.ipynb\" target=\"_parent\"><img src=\"https://colab.research.google.com/assets/colab-badge.svg\" alt=\"Open In Colab\"/></a>"
      ]
    },
    {
      "cell_type": "markdown",
      "source": [
        "Aseguramiento de la Calidad de los Datos\n",
        "1.\tSe tiene un conjunto de datos sobre empleados que incluye su nombre, edad, salario y fecha de ingreso. Se requiere implementar algunos pasos de aseguramiento de la calidad de los datos, como la verificación de valores faltantes y la validación de formatos de datos.\n",
        "\n",
        "-\tSe requiere:\n",
        "1.\tIdentificar y contar los valores faltantes en cada columna.\n",
        "2.\tVerificar el formato de la columna 'Salario' para asegurar que todos los valores sean numéricos.\n",
        "3.\tValidar y estandarizar el formato de la columna 'Fecha Ingreso' a YYYY-MM-DD.\n"
      ],
      "metadata": {
        "id": "v2ct2G6dCq8G"
      }
    },
    {
      "cell_type": "code",
      "execution_count": null,
      "metadata": {
        "colab": {
          "base_uri": "https://localhost:8080/"
        },
        "id": "e8o-pH4GBVIA",
        "outputId": "238ebd30-5284-434f-b5ac-72530e13dcab"
      },
      "outputs": [
        {
          "output_type": "stream",
          "name": "stdout",
          "text": [
            "Valores faltantes por columna:\n",
            "Nombre           0\n",
            "Edad             1\n",
            "Salario          0\n",
            "Fecha Ingreso    0\n",
            "dtype: int64\n"
          ]
        }
      ],
      "source": [
        "import pandas as pd\n",
        "import numpy as np\n",
        "\n",
        "Trabajadores = pd.DataFrame({\n",
        "    'Nombre': ['Juan', 'Ana', 'Pedro', 'María', 'Luis', 'Ana'],\n",
        "    'Edad': [28, 34, None, 45, 38, 34],\n",
        "    'Salario': ['3000', '4000', 'cinco mil', '4500', '4000', '5000'],\n",
        "    'Fecha Ingreso': ['2021-01-15', '2020/03/12', '2022-07-01', '2021/12/01', '2021-05-20', '2020-03-12']})\n",
        "\n",
        "print(\"Valores faltantes por columna:\")\n",
        "print(Trabajadores.isnull().sum())"
      ]
    },
    {
      "cell_type": "code",
      "source": [
        "import pandas as pd\n",
        "import numpy as np\n",
        "\n",
        "Trabajadores = pd.DataFrame({\n",
        "    'Nombre': ['Juan', 'Ana', 'Pedro', 'María', 'Luis', 'Ana'],\n",
        "    'Edad': [28, 34, None, 45, 38, 34],\n",
        "    'Salario': ['3000', '4000', 'cinco mil', '4500', '4000', '5000'],\n",
        "    'Fecha Ingreso': ['2021-01-15', '2020/03/12', '2022-07-01', '2021/12/01', '2021-05-20', '2020-03-12']})\n",
        "\n",
        "def es_numerico(valor):\n",
        "    try:\n",
        "        float(valor)\n",
        "        return True\n",
        "    except ValueError:\n",
        "        return False\n",
        "\n",
        "Trabajadores['Salario Valido'] = Trabajadores['Salario'].apply(es_numerico)\n",
        "\n",
        "print(\"\\n¿Los valores de la columna 'Salario' son numéricos?\")\n",
        "print(Trabajadores[['Salario', 'Salario Valido']])"
      ],
      "metadata": {
        "colab": {
          "base_uri": "https://localhost:8080/"
        },
        "id": "3ewchJ2mEznX",
        "outputId": "dbce978a-b6cb-4fa6-f5af-281ea5e6a400"
      },
      "execution_count": null,
      "outputs": [
        {
          "output_type": "stream",
          "name": "stdout",
          "text": [
            "\n",
            "¿Los valores de la columna 'Salario' son numéricos?\n",
            "     Salario  Salario Valido\n",
            "0       3000            True\n",
            "1       4000            True\n",
            "2  cinco mil           False\n",
            "3       4500            True\n",
            "4       4000            True\n",
            "5       5000            True\n"
          ]
        }
      ]
    },
    {
      "cell_type": "code",
      "source": [
        "import pandas as pd\n",
        "import numpy as np\n",
        "\n",
        "Trabajadores = pd.DataFrame({\n",
        "    'Nombre': ['Juan', 'Ana', 'Pedro', 'María', 'Luis', 'Ana'],\n",
        "    'Edad': [28, 34, None, 45, 38, 34],\n",
        "    'Salario': ['3000', '4000', 'cinco mil', '4500', '4000', '5000'],\n",
        "    'Fecha Ingreso': ['2021-01-15', '2020/03/12', '2022-07-01', '2021/12/01', '2021-05-20', '2020-03-12']})\n",
        "\n",
        "Trabajadores['Fecha Ingreso Estándar'] = pd.to_datetime(Trabajadores['Fecha Ingreso'], errors='coerce')\n",
        "\n",
        "print(\"\\nTrabajadores estandarizados:\")\n",
        "print(Trabajadores)"
      ],
      "metadata": {
        "colab": {
          "base_uri": "https://localhost:8080/"
        },
        "id": "pAEGndQ7H1rV",
        "outputId": "21726308-bde8-427d-e951-8dc2ebde26b6"
      },
      "execution_count": null,
      "outputs": [
        {
          "output_type": "stream",
          "name": "stdout",
          "text": [
            "\n",
            "Trabajadores estandarizados:\n",
            "  Nombre  Edad    Salario Fecha Ingreso Fecha Ingreso Estándar\n",
            "0   Juan  28.0       3000    2021-01-15             2021-01-15\n",
            "1    Ana  34.0       4000    2020/03/12                    NaT\n",
            "2  Pedro   NaN  cinco mil    2022-07-01             2022-07-01\n",
            "3  María  45.0       4500    2021/12/01                    NaT\n",
            "4   Luis  38.0       4000    2021-05-20             2021-05-20\n",
            "5    Ana  34.0       5000    2020-03-12             2020-03-12\n"
          ]
        }
      ]
    },
    {
      "cell_type": "markdown",
      "source": [
        "2.\tSe tiene un conjunto de datos sobre empleados que incluye su nombre, edad, salario, puesto de trabajo y fecha de ingreso. Se requiere implementar aseguramiento de la calidad de los datos, verificando la completitud de los datos, la validez de los salarios y la consistencia de las fechas de ingreso.\n",
        "\n",
        "\n",
        "1.\tIdentificar y contar los valores faltantes en cada columna.\n",
        "2.\tVerificar el formato de la columna \"Salario\" para asegurarse de que todos los valores sean numéricos.\n",
        "3.\tValidar y estandarizar el formato de la columna \"FechaIngreso\" a YYYY-MM-DD.\n",
        "4.\tVerificar que no haya valores faltantes en la columna \"Cargo\".\n"
      ],
      "metadata": {
        "id": "hO-xkEue3Na5"
      }
    },
    {
      "cell_type": "code",
      "source": [
        "import pandas as pd\n",
        "import numpy as np\n",
        "\n",
        "empleados = pd.DataFrame({\n",
        "    'Nombre': ['Juan', 'Ana', 'Pedro', 'María', 'Luis', 'Carla'],\n",
        "    'Edad': [28, None, 40, 45, 38, 34],\n",
        "    'Salario': ['3000', '4000', '4500', 'cuatro mil', '5000', '4000'],\n",
        "    'Cargo': ['Analista', 'Gerente', 'Desarrollador', 'Gerente', 'Analista', None],\n",
        "    'FechaIngreso': ['2021-01-15', '2020/03/12', '2022-07-01', '2021/12/01', None, '2020-03-12']})\n",
        "\n",
        "print(\"Valores faltantes por columna:\")\n",
        "print(empleados.isnull().sum())"
      ],
      "metadata": {
        "id": "a3lA0JXD3Ut0",
        "outputId": "28475947-de1b-47c1-def7-67580d0af336",
        "colab": {
          "base_uri": "https://localhost:8080/"
        }
      },
      "execution_count": 1,
      "outputs": [
        {
          "output_type": "stream",
          "name": "stdout",
          "text": [
            "Valores faltantes por columna:\n",
            "Nombre          0\n",
            "Edad            1\n",
            "Salario         0\n",
            "Cargo           1\n",
            "FechaIngreso    1\n",
            "dtype: int64\n"
          ]
        }
      ]
    },
    {
      "cell_type": "code",
      "source": [
        "import pandas as pd\n",
        "import numpy as np\n",
        "\n",
        "empleados = pd.DataFrame({\n",
        "    'Nombre': ['Juan', 'Ana', 'Pedro', 'María', 'Luis', 'Carla'],\n",
        "    'Edad': [28, None, 40, 45, 38, 34],\n",
        "    'Salario': ['3000', '4000', '4500', 'cuatro mil', '5000', '4000'],\n",
        "    'Cargo': ['Analista', 'Gerente', 'Desarrollador', 'Gerente', 'Analista', None],\n",
        "    'FechaIngreso': ['2021-01-15', '2020/03/12', '2022-07-01', '2021/12/01', None, '2020-03-12']})\n",
        "\n",
        "def es_numerico(valor):\n",
        "    try:\n",
        "        float(valor)\n",
        "        return True\n",
        "    except ValueError:\n",
        "        return False\n",
        "\n",
        "empleados['SalarioValido'] = empleados['Salario'].apply(es_numerico)\n",
        "print(\"\\nVerificación de la columna 'Salario':\")\n",
        "print(empleados[['Salario', 'SalarioValido']])"
      ],
      "metadata": {
        "id": "tLiP8iHT33Ww",
        "outputId": "0c657451-f1f8-4477-cb78-e59501edaee6",
        "colab": {
          "base_uri": "https://localhost:8080/"
        }
      },
      "execution_count": 6,
      "outputs": [
        {
          "output_type": "stream",
          "name": "stdout",
          "text": [
            "\n",
            "Verificación de la columna 'Salario':\n",
            "      Salario  SalarioValido\n",
            "0        3000           True\n",
            "1        4000           True\n",
            "2        4500           True\n",
            "3  cuatro mil          False\n",
            "4        5000           True\n",
            "5        4000           True\n"
          ]
        }
      ]
    },
    {
      "cell_type": "code",
      "source": [
        "import pandas as pd\n",
        "import numpy as np\n",
        "\n",
        "# Crear el DataFrame\n",
        "empleados = pd.DataFrame({\n",
        "    'Nombre': ['Juan', 'Ana', 'Pedro', 'María', 'Luis', 'Carla'],\n",
        "    'Edad': [28, None, 40, 45, 38, 34],\n",
        "    'Salario': ['3000', '4000', '4500', 'cuatro mil', '5000', '4000'],\n",
        "    'Cargo': ['Analista', 'Gerente', 'Desarrollador', 'Gerente', 'Analista', None],\n",
        "    'FechaIngreso': ['2021-01-15', '2020/03/12', '2022-07-01', '2021/12/01', None, '2020-03-12']})\n",
        "\n",
        "def estandarizar_fecha(fecha):\n",
        "    try:\n",
        "        return pd.to_datetime(fecha, format='%Y-%m-%d', errors='coerce').strftime('%Y-%m-%d')\n",
        "    except Exception:\n",
        "        return None\n",
        "\n",
        "empleados['FechaIngresoEstandarizada'] = empleados['FechaIngreso'].apply(estandarizar_fecha)\n",
        "\n",
        "print(\"\\nFechas estandarizadas:\")\n",
        "print(empleados[['FechaIngreso', 'FechaIngresoEstandarizada']])\n"
      ],
      "metadata": {
        "id": "HXrnz_Ob5-l-",
        "outputId": "8e26f309-bde7-47aa-ce2f-7e7c696a8225",
        "colab": {
          "base_uri": "https://localhost:8080/"
        }
      },
      "execution_count": 11,
      "outputs": [
        {
          "output_type": "stream",
          "name": "stdout",
          "text": [
            "\n",
            "Fechas estandarizadas:\n",
            "  FechaIngreso FechaIngresoEstandarizada\n",
            "0   2021-01-15                2021-01-15\n",
            "1   2020/03/12                      None\n",
            "2   2022-07-01                2022-07-01\n",
            "3   2021/12/01                      None\n",
            "4         None                      None\n",
            "5   2020-03-12                2020-03-12\n"
          ]
        }
      ]
    },
    {
      "cell_type": "code",
      "source": [
        "import pandas as pd\n",
        "import numpy as np\n",
        "\n",
        "empleados = pd.DataFrame({\n",
        "    'Nombre': ['Juan', 'Ana', 'Pedro', 'María', 'Luis', 'Carla'],\n",
        "    'Edad': [28, None, 40, 45, 38, 34],\n",
        "    'Salario': ['3000', '4000', '4500', 'cuatro mil', '5000', '4000'],\n",
        "    'Cargo': ['Analista', 'Gerente', 'Desarrollador', 'Gerente', 'Analista', None],\n",
        "    'FechaIngreso': ['2021-01-15', '2020/03/12', '2022-07-01', '2021/12/01', None, '2020-03-12']})\n",
        "\n",
        "print(\"\\nValores faltantes en la columna 'Cargo':\")\n",
        "if empleados['Cargo'].isnull().sum() > 0:\n",
        "    print(f\"Hay {empleados['Cargo'].isnull().sum()} valores faltantes en la columna 'Cargo'.\")\n",
        "else:\n",
        "    print(\"No hay valores faltantes en la columna 'Cargo'.\")\n",
        "print(\"\\nDataFrame final:\")\n",
        "print(empleados)"
      ],
      "metadata": {
        "id": "8EvcciyG7etV",
        "outputId": "461f1900-f365-4b6a-8624-9fac5dbf5db0",
        "colab": {
          "base_uri": "https://localhost:8080/"
        }
      },
      "execution_count": 12,
      "outputs": [
        {
          "output_type": "stream",
          "name": "stdout",
          "text": [
            "\n",
            "Valores faltantes en la columna 'Cargo':\n",
            "Hay 1 valores faltantes en la columna 'Cargo'.\n",
            "\n",
            "DataFrame final:\n",
            "  Nombre  Edad     Salario          Cargo FechaIngreso\n",
            "0   Juan  28.0        3000       Analista   2021-01-15\n",
            "1    Ana   NaN        4000        Gerente   2020/03/12\n",
            "2  Pedro  40.0        4500  Desarrollador   2022-07-01\n",
            "3  María  45.0  cuatro mil        Gerente   2021/12/01\n",
            "4   Luis  38.0        5000       Analista         None\n",
            "5  Carla  34.0        4000           None   2020-03-12\n"
          ]
        }
      ]
    }
  ]
}