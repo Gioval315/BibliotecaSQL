{
  "nbformat": 4,
  "nbformat_minor": 0,
  "metadata": {
    "colab": {
      "provenance": [],
      "authorship_tag": "ABX9TyPgbY4o0eH1vMIg0YwX0+BB",
      "include_colab_link": true
    },
    "kernelspec": {
      "name": "python3",
      "display_name": "Python 3"
    },
    "language_info": {
      "name": "python"
    }
  },
  "cells": [
    {
      "cell_type": "markdown",
      "metadata": {
        "id": "view-in-github",
        "colab_type": "text"
      },
      "source": [
        "<a href=\"https://colab.research.google.com/github/Gioval315/BibliotecaSQL/blob/main/laboratorio_9.ipynb\" target=\"_parent\"><img src=\"https://colab.research.google.com/assets/colab-badge.svg\" alt=\"Open In Colab\"/></a>"
      ]
    },
    {
      "cell_type": "markdown",
      "source": [
        "Aseguramiento de la Calidad de los Datos\n",
        "1.\tSe tiene un conjunto de datos sobre empleados que incluye su nombre, edad, salario y fecha de ingreso. Se requiere implementar algunos pasos de aseguramiento de la calidad de los datos, como la verificación de valores faltantes y la validación de formatos de datos.\n",
        "\n",
        "-\tSe requiere:\n",
        "1.\tIdentificar y contar los valores faltantes en cada columna.\n",
        "2.\tVerificar el formato de la columna 'Salario' para asegurar que todos los valores sean numéricos.\n",
        "3.\tValidar y estandarizar el formato de la columna 'Fecha Ingreso' a YYYY-MM-DD.\n"
      ],
      "metadata": {
        "id": "v2ct2G6dCq8G"
      }
    },
    {
      "cell_type": "code",
      "execution_count": null,
      "metadata": {
        "colab": {
          "base_uri": "https://localhost:8080/"
        },
        "id": "e8o-pH4GBVIA",
        "outputId": "238ebd30-5284-434f-b5ac-72530e13dcab"
      },
      "outputs": [
        {
          "output_type": "stream",
          "name": "stdout",
          "text": [
            "Valores faltantes por columna:\n",
            "Nombre           0\n",
            "Edad             1\n",
            "Salario          0\n",
            "Fecha Ingreso    0\n",
            "dtype: int64\n"
          ]
        }
      ],
      "source": [
        "import pandas as pd\n",
        "import numpy as np\n",
        "\n",
        "Trabajadores = pd.DataFrame({\n",
        "    'Nombre': ['Juan', 'Ana', 'Pedro', 'María', 'Luis', 'Ana'],\n",
        "    'Edad': [28, 34, None, 45, 38, 34],\n",
        "    'Salario': ['3000', '4000', 'cinco mil', '4500', '4000', '5000'],\n",
        "    'Fecha Ingreso': ['2021-01-15', '2020/03/12', '2022-07-01', '2021/12/01', '2021-05-20', '2020-03-12']})\n",
        "\n",
        "print(\"Valores faltantes por columna:\")\n",
        "print(Trabajadores.isnull().sum())"
      ]
    },
    {
      "cell_type": "code",
      "source": [
        "import pandas as pd\n",
        "import numpy as np\n",
        "\n",
        "Trabajadores = pd.DataFrame({\n",
        "    'Nombre': ['Juan', 'Ana', 'Pedro', 'María', 'Luis', 'Ana'],\n",
        "    'Edad': [28, 34, None, 45, 38, 34],\n",
        "    'Salario': ['3000', '4000', 'cinco mil', '4500', '4000', '5000'],\n",
        "    'Fecha Ingreso': ['2021-01-15', '2020/03/12', '2022-07-01', '2021/12/01', '2021-05-20', '2020-03-12']})\n",
        "\n",
        "def es_numerico(valor):\n",
        "    try:\n",
        "        float(valor)\n",
        "        return True\n",
        "    except ValueError:\n",
        "        return False\n",
        "\n",
        "Trabajadores['Salario Valido'] = Trabajadores['Salario'].apply(es_numerico)\n",
        "\n",
        "print(\"\\n¿Los valores de la columna 'Salario' son numéricos?\")\n",
        "print(Trabajadores[['Salario', 'Salario Valido']])"
      ],
      "metadata": {
        "colab": {
          "base_uri": "https://localhost:8080/"
        },
        "id": "3ewchJ2mEznX",
        "outputId": "dbce978a-b6cb-4fa6-f5af-281ea5e6a400"
      },
      "execution_count": null,
      "outputs": [
        {
          "output_type": "stream",
          "name": "stdout",
          "text": [
            "\n",
            "¿Los valores de la columna 'Salario' son numéricos?\n",
            "     Salario  Salario Valido\n",
            "0       3000            True\n",
            "1       4000            True\n",
            "2  cinco mil           False\n",
            "3       4500            True\n",
            "4       4000            True\n",
            "5       5000            True\n"
          ]
        }
      ]
    },
    {
      "cell_type": "code",
      "source": [
        "import pandas as pd\n",
        "import numpy as np\n",
        "\n",
        "Trabajadores = pd.DataFrame({\n",
        "    'Nombre': ['Juan', 'Ana', 'Pedro', 'María', 'Luis', 'Ana'],\n",
        "    'Edad': [28, 34, None, 45, 38, 34],\n",
        "    'Salario': ['3000', '4000', 'cinco mil', '4500', '4000', '5000'],\n",
        "    'Fecha Ingreso': ['2021-01-15', '2020/03/12', '2022-07-01', '2021/12/01', '2021-05-20', '2020-03-12']})\n",
        "\n",
        "Trabajadores['Fecha Ingreso Estándar'] = pd.to_datetime(Trabajadores['Fecha Ingreso'], errors='coerce')\n",
        "\n",
        "print(\"\\nTrabajadores estandarizados:\")\n",
        "print(Trabajadores)"
      ],
      "metadata": {
        "colab": {
          "base_uri": "https://localhost:8080/"
        },
        "id": "pAEGndQ7H1rV",
        "outputId": "21726308-bde8-427d-e951-8dc2ebde26b6"
      },
      "execution_count": null,
      "outputs": [
        {
          "output_type": "stream",
          "name": "stdout",
          "text": [
            "\n",
            "Trabajadores estandarizados:\n",
            "  Nombre  Edad    Salario Fecha Ingreso Fecha Ingreso Estándar\n",
            "0   Juan  28.0       3000    2021-01-15             2021-01-15\n",
            "1    Ana  34.0       4000    2020/03/12                    NaT\n",
            "2  Pedro   NaN  cinco mil    2022-07-01             2022-07-01\n",
            "3  María  45.0       4500    2021/12/01                    NaT\n",
            "4   Luis  38.0       4000    2021-05-20             2021-05-20\n",
            "5    Ana  34.0       5000    2020-03-12             2020-03-12\n"
          ]
        }
      ]
    }
  ]
}