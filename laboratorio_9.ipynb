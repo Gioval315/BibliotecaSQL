{
  "nbformat": 4,
  "nbformat_minor": 0,
  "metadata": {
    "colab": {
      "provenance": [],
      "authorship_tag": "ABX9TyOAW/DLa5lHcFoN0rCmpLso",
      "include_colab_link": true
    },
    "kernelspec": {
      "name": "python3",
      "display_name": "Python 3"
    },
    "language_info": {
      "name": "python"
    }
  },
  "cells": [
    {
      "cell_type": "markdown",
      "metadata": {
        "id": "view-in-github",
        "colab_type": "text"
      },
      "source": [
        "<a href=\"https://colab.research.google.com/github/Gioval315/BibliotecaSQL/blob/main/laboratorio_9.ipynb\" target=\"_parent\"><img src=\"https://colab.research.google.com/assets/colab-badge.svg\" alt=\"Open In Colab\"/></a>"
      ]
    },
    {
      "cell_type": "markdown",
      "source": [
        "Aseguramiento de la Calidad de los Datos\n",
        "1.\tSe tiene un conjunto de datos sobre empleados que incluye su nombre, edad, salario y fecha de ingreso. Se requiere implementar algunos pasos de aseguramiento de la calidad de los datos, como la verificación de valores faltantes y la validación de formatos de datos.\n",
        "\n",
        "-\tSe requiere:\n",
        "1.\tIdentificar y contar los valores faltantes en cada columna.\n",
        "2.\tVerificar el formato de la columna 'Salario' para asegurar que todos los valores sean numéricos.\n",
        "3.\tValidar y estandarizar el formato de la columna 'Fecha Ingreso' a YYYY-MM-DD.\n"
      ],
      "metadata": {
        "id": "v2ct2G6dCq8G"
      }
    },
    {
      "cell_type": "code",
      "execution_count": null,
      "metadata": {
        "colab": {
          "base_uri": "https://localhost:8080/"
        },
        "id": "e8o-pH4GBVIA",
        "outputId": "238ebd30-5284-434f-b5ac-72530e13dcab"
      },
      "outputs": [
        {
          "output_type": "stream",
          "name": "stdout",
          "text": [
            "Valores faltantes por columna:\n",
            "Nombre           0\n",
            "Edad             1\n",
            "Salario          0\n",
            "Fecha Ingreso    0\n",
            "dtype: int64\n"
          ]
        }
      ],
      "source": [
        "import pandas as pd\n",
        "import numpy as np\n",
        "\n",
        "Trabajadores = pd.DataFrame({\n",
        "    'Nombre': ['Juan', 'Ana', 'Pedro', 'María', 'Luis', 'Ana'],\n",
        "    'Edad': [28, 34, None, 45, 38, 34],\n",
        "    'Salario': ['3000', '4000', 'cinco mil', '4500', '4000', '5000'],\n",
        "    'Fecha Ingreso': ['2021-01-15', '2020/03/12', '2022-07-01', '2021/12/01', '2021-05-20', '2020-03-12']})\n",
        "\n",
        "print(\"Valores faltantes por columna:\")\n",
        "print(Trabajadores.isnull().sum())"
      ]
    },
    {
      "cell_type": "code",
      "source": [
        "import pandas as pd\n",
        "import numpy as np\n",
        "\n",
        "Trabajadores = pd.DataFrame({\n",
        "    'Nombre': ['Juan', 'Ana', 'Pedro', 'María', 'Luis', 'Ana'],\n",
        "    'Edad': [28, 34, None, 45, 38, 34],\n",
        "    'Salario': ['3000', '4000', 'cinco mil', '4500', '4000', '5000'],\n",
        "    'Fecha Ingreso': ['2021-01-15', '2020/03/12', '2022-07-01', '2021/12/01', '2021-05-20', '2020-03-12']})\n",
        "\n",
        "def es_numerico(valor):\n",
        "    try:\n",
        "        float(valor)\n",
        "        return True\n",
        "    except ValueError:\n",
        "        return False\n",
        "\n",
        "Trabajadores['Salario Valido'] = Trabajadores['Salario'].apply(es_numerico)\n",
        "\n",
        "print(\"\\n¿Los valores de la columna 'Salario' son numéricos?\")\n",
        "print(Trabajadores[['Salario', 'Salario Valido']])"
      ],
      "metadata": {
        "colab": {
          "base_uri": "https://localhost:8080/"
        },
        "id": "3ewchJ2mEznX",
        "outputId": "dbce978a-b6cb-4fa6-f5af-281ea5e6a400"
      },
      "execution_count": null,
      "outputs": [
        {
          "output_type": "stream",
          "name": "stdout",
          "text": [
            "\n",
            "¿Los valores de la columna 'Salario' son numéricos?\n",
            "     Salario  Salario Valido\n",
            "0       3000            True\n",
            "1       4000            True\n",
            "2  cinco mil           False\n",
            "3       4500            True\n",
            "4       4000            True\n",
            "5       5000            True\n"
          ]
        }
      ]
    },
    {
      "cell_type": "code",
      "source": [
        "import pandas as pd\n",
        "import numpy as np\n",
        "\n",
        "Trabajadores = pd.DataFrame({\n",
        "    'Nombre': ['Juan', 'Ana', 'Pedro', 'María', 'Luis', 'Ana'],\n",
        "    'Edad': [28, 34, None, 45, 38, 34],\n",
        "    'Salario': ['3000', '4000', 'cinco mil', '4500', '4000', '5000'],\n",
        "    'Fecha Ingreso': ['2021-01-15', '2020/03/12', '2022-07-01', '2021/12/01', '2021-05-20', '2020-03-12']})\n",
        "\n",
        "Trabajadores['Fecha Ingreso Estándar'] = pd.to_datetime(Trabajadores['Fecha Ingreso'], errors='coerce')\n",
        "\n",
        "print(\"\\nTrabajadores estandarizados:\")\n",
        "print(Trabajadores)"
      ],
      "metadata": {
        "colab": {
          "base_uri": "https://localhost:8080/"
        },
        "id": "pAEGndQ7H1rV",
        "outputId": "21726308-bde8-427d-e951-8dc2ebde26b6"
      },
      "execution_count": null,
      "outputs": [
        {
          "output_type": "stream",
          "name": "stdout",
          "text": [
            "\n",
            "Trabajadores estandarizados:\n",
            "  Nombre  Edad    Salario Fecha Ingreso Fecha Ingreso Estándar\n",
            "0   Juan  28.0       3000    2021-01-15             2021-01-15\n",
            "1    Ana  34.0       4000    2020/03/12                    NaT\n",
            "2  Pedro   NaN  cinco mil    2022-07-01             2022-07-01\n",
            "3  María  45.0       4500    2021/12/01                    NaT\n",
            "4   Luis  38.0       4000    2021-05-20             2021-05-20\n",
            "5    Ana  34.0       5000    2020-03-12             2020-03-12\n"
          ]
        }
      ]
    },
    {
      "cell_type": "markdown",
      "source": [
        "2.\tSe tiene un conjunto de datos sobre empleados que incluye su nombre, edad, salario, puesto de trabajo y fecha de ingreso. Se requiere implementar aseguramiento de la calidad de los datos, verificando la completitud de los datos, la validez de los salarios y la consistencia de las fechas de ingreso.\n",
        "\n",
        "\n",
        "1.\tIdentificar y contar los valores faltantes en cada columna.\n",
        "2.\tVerificar el formato de la columna \"Salario\" para asegurarse de que todos los valores sean numéricos.\n",
        "3.\tValidar y estandarizar el formato de la columna \"FechaIngreso\" a YYYY-MM-DD.\n",
        "4.\tVerificar que no haya valores faltantes en la columna \"Cargo\".\n"
      ],
      "metadata": {
        "id": "hO-xkEue3Na5"
      }
    },
    {
      "cell_type": "code",
      "source": [
        "import pandas as pd\n",
        "import numpy as np\n",
        "\n",
        "empleados = pd.DataFrame({\n",
        "    'Nombre': ['Juan', 'Ana', 'Pedro', 'María', 'Luis', 'Carla'],\n",
        "    'Edad': [28, None, 40, 45, 38, 34],\n",
        "    'Salario': ['3000', '4000', '4500', 'cuatro mil', '5000', '4000'],\n",
        "    'Cargo': ['Analista', 'Gerente', 'Desarrollador', 'Gerente', 'Analista', None],\n",
        "    'FechaIngreso': ['2021-01-15', '2020/03/12', '2022-07-01', '2021/12/01', None, '2020-03-12']})\n",
        "\n",
        "print(\"Valores faltantes por columna:\")\n",
        "print(empleados.isnull().sum())"
      ],
      "metadata": {
        "colab": {
          "base_uri": "https://localhost:8080/"
        },
        "id": "a3lA0JXD3Ut0",
        "outputId": "28475947-de1b-47c1-def7-67580d0af336"
      },
      "execution_count": 1,
      "outputs": [
        {
          "output_type": "stream",
          "name": "stdout",
          "text": [
            "Valores faltantes por columna:\n",
            "Nombre          0\n",
            "Edad            1\n",
            "Salario         0\n",
            "Cargo           1\n",
            "FechaIngreso    1\n",
            "dtype: int64\n"
          ]
        }
      ]
    },
    {
      "cell_type": "code",
      "source": [
        "import pandas as pd\n",
        "import numpy as np\n",
        "\n",
        "empleados = pd.DataFrame({\n",
        "    'Nombre': ['Juan', 'Ana', 'Pedro', 'María', 'Luis', 'Carla'],\n",
        "    'Edad': [28, None, 40, 45, 38, 34],\n",
        "    'Salario': ['3000', '4000', '4500', 'cuatro mil', '5000', '4000'],\n",
        "    'Cargo': ['Analista', 'Gerente', 'Desarrollador', 'Gerente', 'Analista', None],\n",
        "    'FechaIngreso': ['2021-01-15', '2020/03/12', '2022-07-01', '2021/12/01', None, '2020-03-12']})\n",
        "\n",
        "def es_numerico(valor):\n",
        "    try:\n",
        "        float(valor)\n",
        "        return True\n",
        "    except ValueError:\n",
        "        return False\n",
        "\n",
        "empleados['SalarioValido'] = empleados['Salario'].apply(es_numerico)\n",
        "print(\"\\nVerificación de la columna 'Salario':\")\n",
        "print(empleados[['Salario', 'SalarioValido']])"
      ],
      "metadata": {
        "colab": {
          "base_uri": "https://localhost:8080/"
        },
        "id": "tLiP8iHT33Ww",
        "outputId": "0c657451-f1f8-4477-cb78-e59501edaee6"
      },
      "execution_count": 6,
      "outputs": [
        {
          "output_type": "stream",
          "name": "stdout",
          "text": [
            "\n",
            "Verificación de la columna 'Salario':\n",
            "      Salario  SalarioValido\n",
            "0        3000           True\n",
            "1        4000           True\n",
            "2        4500           True\n",
            "3  cuatro mil          False\n",
            "4        5000           True\n",
            "5        4000           True\n"
          ]
        }
      ]
    },
    {
      "cell_type": "code",
      "source": [
        "import pandas as pd\n",
        "import numpy as np\n",
        "\n",
        "# Crear el DataFrame\n",
        "empleados = pd.DataFrame({\n",
        "    'Nombre': ['Juan', 'Ana', 'Pedro', 'María', 'Luis', 'Carla'],\n",
        "    'Edad': [28, None, 40, 45, 38, 34],\n",
        "    'Salario': ['3000', '4000', '4500', 'cuatro mil', '5000', '4000'],\n",
        "    'Cargo': ['Analista', 'Gerente', 'Desarrollador', 'Gerente', 'Analista', None],\n",
        "    'FechaIngreso': ['2021-01-15', '2020/03/12', '2022-07-01', '2021/12/01', None, '2020-03-12']})\n",
        "\n",
        "def estandarizar_fecha(fecha):\n",
        "    try:\n",
        "        return pd.to_datetime(fecha, format='%Y-%m-%d', errors='coerce').strftime('%Y-%m-%d')\n",
        "    except Exception:\n",
        "        return None\n",
        "\n",
        "empleados['FechaIngresoEstandarizada'] = empleados['FechaIngreso'].apply(estandarizar_fecha)\n",
        "\n",
        "print(\"\\nFechas estandarizadas:\")\n",
        "print(empleados[['FechaIngreso', 'FechaIngresoEstandarizada']])\n"
      ],
      "metadata": {
        "colab": {
          "base_uri": "https://localhost:8080/"
        },
        "id": "HXrnz_Ob5-l-",
        "outputId": "8e26f309-bde7-47aa-ce2f-7e7c696a8225"
      },
      "execution_count": 11,
      "outputs": [
        {
          "output_type": "stream",
          "name": "stdout",
          "text": [
            "\n",
            "Fechas estandarizadas:\n",
            "  FechaIngreso FechaIngresoEstandarizada\n",
            "0   2021-01-15                2021-01-15\n",
            "1   2020/03/12                      None\n",
            "2   2022-07-01                2022-07-01\n",
            "3   2021/12/01                      None\n",
            "4         None                      None\n",
            "5   2020-03-12                2020-03-12\n"
          ]
        }
      ]
    },
    {
      "cell_type": "code",
      "source": [
        "import pandas as pd\n",
        "import numpy as np\n",
        "\n",
        "empleados = pd.DataFrame({\n",
        "    'Nombre': ['Juan', 'Ana', 'Pedro', 'María', 'Luis', 'Carla'],\n",
        "    'Edad': [28, None, 40, 45, 38, 34],\n",
        "    'Salario': ['3000', '4000', '4500', 'cuatro mil', '5000', '4000'],\n",
        "    'Cargo': ['Analista', 'Gerente', 'Desarrollador', 'Gerente', 'Analista', None],\n",
        "    'FechaIngreso': ['2021-01-15', '2020/03/12', '2022-07-01', '2021/12/01', None, '2020-03-12']})\n",
        "\n",
        "print(\"\\nValores faltantes en la columna 'Cargo':\")\n",
        "if empleados['Cargo'].isnull().sum() > 0:\n",
        "    print(f\"Hay {empleados['Cargo'].isnull().sum()} valores faltantes en la columna 'Cargo'.\")\n",
        "else:\n",
        "    print(\"No hay valores faltantes en la columna 'Cargo'.\")\n",
        "print(\"\\nDataFrame final:\")\n",
        "print(empleados)"
      ],
      "metadata": {
        "colab": {
          "base_uri": "https://localhost:8080/"
        },
        "id": "8EvcciyG7etV",
        "outputId": "461f1900-f365-4b6a-8624-9fac5dbf5db0"
      },
      "execution_count": 12,
      "outputs": [
        {
          "output_type": "stream",
          "name": "stdout",
          "text": [
            "\n",
            "Valores faltantes en la columna 'Cargo':\n",
            "Hay 1 valores faltantes en la columna 'Cargo'.\n",
            "\n",
            "DataFrame final:\n",
            "  Nombre  Edad     Salario          Cargo FechaIngreso\n",
            "0   Juan  28.0        3000       Analista   2021-01-15\n",
            "1    Ana   NaN        4000        Gerente   2020/03/12\n",
            "2  Pedro  40.0        4500  Desarrollador   2022-07-01\n",
            "3  María  45.0  cuatro mil        Gerente   2021/12/01\n",
            "4   Luis  38.0        5000       Analista         None\n",
            "5  Carla  34.0        4000           None   2020-03-12\n"
          ]
        }
      ]
    },
    {
      "cell_type": "markdown",
      "source": [
        "## Parte 2\n",
        "1.\tSe requiere validar los datos: Precios de Productos, se tiene una lista de productos con los respectivos precios y se necesita validar que ningún precio sea negativo o nulo.\n",
        "Resultado esperado: Una tabla que muestra qué productos tienen precios incorrectos.\n"
      ],
      "metadata": {
        "id": "b6xaDcLn-YNy"
      }
    },
    {
      "cell_type": "code",
      "source": [
        "import pandas as pd\n",
        "import numpy as np\n",
        "\n",
        "productos = pd.DataFrame({\n",
        "    'Producto': ['Producto A', 'Producto B', 'Producto C', 'Producto D'],\n",
        "    'Precio': [150, -25, 100, None]})\n",
        "\n",
        "productos['Precio Valido'] = productos['Precio'].apply(lambda x: x is not None and x >= 0)\n",
        "precios_invalidos = productos[~productos['Precio Valido']]\n",
        "print(\"Productos con precios inválidos:\")\n",
        "print(precios_invalidos[['Producto', 'Precio']])\n"
      ],
      "metadata": {
        "colab": {
          "base_uri": "https://localhost:8080/"
        },
        "id": "LS5dI5HE-kZg",
        "outputId": "48150ece-0f24-4293-ea38-34b3baaacdd2"
      },
      "execution_count": 13,
      "outputs": [
        {
          "output_type": "stream",
          "name": "stdout",
          "text": [
            "Productos con precios inválidos:\n",
            "     Producto  Precio\n",
            "1  Producto B   -25.0\n",
            "3  Producto D     NaN\n"
          ]
        }
      ]
    },
    {
      "cell_type": "markdown",
      "source": [
        "2.\tSe requiere validar los datos duplicados: Clientes en una Base de Datos, se tiene una lista de clientes donde algunos registros tienen el mismo ID y necesitas identificarlos.\n",
        "\n",
        "-\tResultado esperado: Una tabla que contiene solo los clientes que tienen el mismo ID, facilitando su corrección.\n"
      ],
      "metadata": {
        "id": "6c4WxbGs-zJF"
      }
    },
    {
      "cell_type": "code",
      "source": [
        "import pandas as pd\n",
        "\n",
        "clientes = pd.DataFrame({\n",
        "    'ID Cliente': [1, 2, 3, 2, 4],\n",
        "    'Nombre': ['Ana', 'Luis', 'María', 'Luis', 'Carlos']})\n",
        "\n",
        "duplicados = clientes[clientes.duplicated(subset=['ID Cliente'], keep=False)]\n",
        "\n",
        "print(\"Registros duplicados:\")\n",
        "print(duplicados)\n"
      ],
      "metadata": {
        "colab": {
          "base_uri": "https://localhost:8080/"
        },
        "id": "NMLNOQmP-1tZ",
        "outputId": "520c0fcf-0b86-4571-b0c2-bf8fa801789b"
      },
      "execution_count": 14,
      "outputs": [
        {
          "output_type": "stream",
          "name": "stdout",
          "text": [
            "Registros duplicados:\n",
            "   ID Cliente Nombre\n",
            "1           2   Luis\n",
            "3           2   Luis\n"
          ]
        }
      ]
    },
    {
      "cell_type": "markdown",
      "source": [
        "3.\tSe requiere tener seguridad en los datos: Encriptación y Desencriptación de Datos Sensibles, se tiene un número de tarjeta de crédito que deseas encriptar para protegerlo y luego desencriptarlo para el uso.\n",
        "\n",
        "-\tResultado esperado: Ver el número de tarjeta encriptado y luego desencriptado, demostrando cómo proteger la información sensible.\n"
      ],
      "metadata": {
        "id": "PeWNjYeuBFMJ"
      }
    },
    {
      "cell_type": "code",
      "source": [
        "from cryptography.fernet import Fernet\n",
        "\n",
        "clave = Fernet.generate_key()\n",
        "fernet = Fernet(clave)\n",
        "\n",
        "tarjeta_original = \"1234-5678-9012-3456\"\n",
        "print(\"Número de tarjeta original:\", tarjeta_original)\n",
        "\n",
        "tarjeta_encriptada = fernet.encrypt(tarjeta_original.encode())\n",
        "print(\"Número de tarjeta encriptado:\", tarjeta_encriptada)\n",
        "\n",
        "tarjeta_desencriptada = fernet.decrypt(tarjeta_encriptada).decode()\n",
        "print(\"Número de tarjeta desencriptado:\", tarjeta_desencriptada)\n"
      ],
      "metadata": {
        "colab": {
          "base_uri": "https://localhost:8080/"
        },
        "id": "sBD-gVgmBEZu",
        "outputId": "7d848c12-8bb1-4ea1-f41c-a0d7afffe794"
      },
      "execution_count": 15,
      "outputs": [
        {
          "output_type": "stream",
          "name": "stdout",
          "text": [
            "Número de tarjeta original: 1234-5678-9012-3456\n",
            "Número de tarjeta encriptado: b'gAAAAABnO-jl-3Iq_uWwkzlse6EzsceOF5HpeJi8oaZNV6V3vKMF7oBhpNG3e8NTslstnrtJdndeJqxz5yLufCGwj0dkaA7uDHCqKmkK83CE4C1vgDWZe54='\n",
            "Número de tarjeta desencriptado: 1234-5678-9012-3456\n"
          ]
        }
      ]
    }
  ]
}