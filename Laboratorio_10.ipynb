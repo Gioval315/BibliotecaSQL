{
  "nbformat": 4,
  "nbformat_minor": 0,
  "metadata": {
    "colab": {
      "provenance": [],
      "name": "Laboratorio_10.ipynb",
      "authorship_tag": "ABX9TyNcNcErlcXaWh/NDhRimLwo",
      "include_colab_link": true
    },
    "kernelspec": {
      "name": "python3",
      "display_name": "Python 3"
    },
    "language_info": {
      "name": "python"
    }
  },
  "cells": [
    {
      "cell_type": "markdown",
      "metadata": {
        "id": "view-in-github",
        "colab_type": "text"
      },
      "source": [
        "<a href=\"https://colab.research.google.com/github/Gioval315/BibliotecaSQL/blob/main/Laboratorio_10.ipynb\" target=\"_parent\"><img src=\"https://colab.research.google.com/assets/colab-badge.svg\" alt=\"Open In Colab\"/></a>"
      ]
    },
    {
      "cell_type": "markdown",
      "source": [
        "\n",
        "1.\tSalud Digital y Análisis de Datos de Pacientes\n",
        "Se tiene un conjunto de datos sobre pacientes que incluye nombre, edad, fecha de ingreso y resultados de pruebas. Algunos registros están incompletos o contienen errores.\n",
        "•\tResultado Prueba: Positivo,Negativo, Positivo,Positivo, Negativo,Negativo.\n"
      ],
      "metadata": {
        "id": "8Q9mPYP1E1gd"
      }
    },
    {
      "cell_type": "code",
      "source": [],
      "metadata": {
        "id": "i69PHslGO7fM"
      },
      "execution_count": null,
      "outputs": []
    },
    {
      "cell_type": "code",
      "execution_count": null,
      "metadata": {
        "colab": {
          "base_uri": "https://localhost:8080/"
        },
        "id": "eB6usFF9EEDH",
        "outputId": "e190201e-f267-40df-ce57-71d789db1f43"
      },
      "outputs": [
        {
          "output_type": "stream",
          "name": "stdout",
          "text": [
            "Nombre              1\n",
            "Edad                1\n",
            "Fecha Ingreso       0\n",
            "Resultado Prueba    0\n",
            "dtype: int64\n"
          ]
        }
      ],
      "source": [
        "import pandas as pd\n",
        "import numpy as np\n",
        "\n",
        "# Crear el DataFrame con los datos\n",
        "pacientes = pd.DataFrame({\n",
        "    'Nombre': ['Carlos', 'Ana', 'Luis', 'Pedro', 'María', None],\n",
        "    'Edad': [34, 29, None, 45, 25, 33],\n",
        "    'Fecha Ingreso': ['2021-01-15', '2020/03/12', '2022-07-01', '2021/12/01', '2021-05-20', '2020-03-12'],\n",
        "    'Resultado Prueba': ['Positivo', 'Negativo', 'Positivo', 'Positivo', 'Negativo', 'Negativo']})\n",
        "\n",
        "valores_nulos = pacientes.isnull().sum()\n",
        "print(valores_nulos)"
      ]
    },
    {
      "cell_type": "code",
      "source": [
        "import pandas as pd\n",
        "import numpy as np\n",
        "\n",
        "# Crear el DataFrame con los datos\n",
        "pacientes = pd.DataFrame({\n",
        "    'Nombre': ['Carlos', 'Ana', 'Luis', 'Pedro', 'María', None],\n",
        "    'Edad': [34, 29, None, 45, 25, 33],\n",
        "    'Fecha Ingreso': ['2021-01-15', '2020/03/12', '2022-07-01', '2021/12/01', '2021-05-20', '2020-03-12'],\n",
        "    'Resultado Prueba': ['Positivo', 'Negativo', 'Positivo', 'Positivo', 'Negativo', 'Negativo']})\n",
        "\n",
        "def estandarizar_fecha(fecha):\n",
        "    return pd.to_datetime(fecha, errors='coerce').strftime('%Y-%m-%d')\n",
        "\n",
        "pacientes['Fecha Ingreso'] = pacientes['Fecha Ingreso'].apply(estandarizar_fecha)\n",
        "\n",
        "print(\"\\nDatos con formato de fecha estandarizado:\")\n",
        "print(pacientes)"
      ],
      "metadata": {
        "colab": {
          "base_uri": "https://localhost:8080/"
        },
        "id": "6-SOLppMFU6f",
        "outputId": "117ab90a-27c9-43fe-cd0e-9520ec0165e0"
      },
      "execution_count": null,
      "outputs": [
        {
          "output_type": "stream",
          "name": "stdout",
          "text": [
            "\n",
            "Datos con formato de fecha estandarizado:\n",
            "   Nombre  Edad Fecha Ingreso Resultado Prueba\n",
            "0  Carlos  34.0    2021-01-15         Positivo\n",
            "1     Ana  29.0    2020-03-12         Negativo\n",
            "2    Luis   NaN    2022-07-01         Positivo\n",
            "3   Pedro  45.0    2021-12-01         Positivo\n",
            "4   María  25.0    2021-05-20         Negativo\n",
            "5    None  33.0    2020-03-12         Negativo\n"
          ]
        }
      ]
    },
    {
      "cell_type": "code",
      "source": [
        "import pandas as pd\n",
        "import numpy as np\n",
        "\n",
        "pacientes = pd.DataFrame({\n",
        "    'Nombre': ['Carlos', 'Ana', 'Luis', 'Pedro', 'María', None],\n",
        "    'Edad': [34, 29, None, 45, 25, 33],\n",
        "    'Fecha Ingreso': ['2021-01-15', '2020/03/12', '2022-07-01', '2021/12/01', '2021-05-20', '2020-03-12'],\n",
        "    'Resultado Prueba': ['Positivo', 'Negativo', 'Positivo', 'Positivo', 'Negativo', 'Negativo']})\n",
        "\n",
        "# 3 Resultados ositivos y negativos\n",
        "resultado_prueba = pacientes['Resultado Prueba'].value_counts()\n",
        "print(\"\\nConteo de resultados de prueba:\")\n",
        "print(resultado_prueba)\n",
        "\n",
        "# 4 registros incompletos\n",
        "registros_incompletos = pacientes[pacientes.isnull().any(axis=1)]\n",
        "print(\"\\nRegistros incompletos:\")\n",
        "print(registros_incompletos)"
      ],
      "metadata": {
        "colab": {
          "base_uri": "https://localhost:8080/"
        },
        "id": "aaGxErEyFcvc",
        "outputId": "c17bed4f-2649-4663-a933-8fbf05f2ff4a"
      },
      "execution_count": null,
      "outputs": [
        {
          "output_type": "stream",
          "name": "stdout",
          "text": [
            "\n",
            "Conteo de resultados de prueba:\n",
            "Resultado Prueba\n",
            "Positivo    3\n",
            "Negativo    3\n",
            "Name: count, dtype: int64\n",
            "\n",
            "Registros incompletos:\n",
            "  Nombre  Edad Fecha Ingreso Resultado Prueba\n",
            "2   Luis   NaN    2022-07-01         Positivo\n",
            "5   None  33.0    2020-03-12         Negativo\n"
          ]
        }
      ]
    },
    {
      "cell_type": "markdown",
      "source": [
        "2.\tComercio Electrónico y Recomendaciones Personalizadas\n",
        "Se tiene un conjunto de datos sobre transacciones de clientes que incluye el ID del cliente, el producto comprado, la cantidad, el precio y la fecha de la transacción. Algunos registros tienen errores en los precios y fechas."
      ],
      "metadata": {
        "id": "idjcG_ulKhkT"
      }
    },
    {
      "cell_type": "code",
      "source": [
        "import pandas as pd\n",
        "import numpy as np\n",
        "\n",
        "# Crear el DataFrame con los datos\n",
        "pacientes = pd.DataFrame({\n",
        "    'Nombre': ['Carlos', 'Ana', 'Luis', 'Pedro', 'María', None],\n",
        "    'Edad': [34, 29, None, 45, 25, 33],\n",
        "    'Fecha Ingreso': ['2021-01-15', '2020/03/12', '2022-07-01', '2021/12/01', '2021-05-20', '2020-03-12'],\n",
        "    'Resultado Prueba': ['Positivo', 'Negativo', 'Positivo', 'Positivo', 'Negativo', 'Negativo']})\n",
        "\n",
        "# 1. Identificar registros con valores nulos\n",
        "valores_nulos = pacientes.isnull().sum()\n",
        "print(\"\\nValores nulos en cada columna:\")\n",
        "print(valores_nulos)\n",
        "\n",
        "# 2. Estandarizar el formato de fechas\n",
        "def estandarizar_fecha(fecha):\n",
        "    return pd.to_datetime(fecha, errors='coerce').strftime('%Y-%m-%d')\n",
        "\n",
        "pacientes['Fecha Ingreso'] = pacientes['Fecha Ingreso'].apply(estandarizar_fecha)\n",
        "\n",
        "print(\"\\nDatos con formato de fecha estandarizado:\")\n",
        "print(pacientes)\n",
        "\n",
        "# 3. Contar resultados de prueba positivos y negativos\n",
        "resultado_prueba = pacientes['Resultado Prueba'].value_counts()\n",
        "print(\"\\nConteo de resultados de prueba:\")\n",
        "print(resultado_prueba)\n",
        "\n",
        "# 4. Mostrar registros incompletos\n",
        "registros_incompletos = pacientes[pacientes.isnull().any(axis=1)]\n",
        "print(\"\\nRegistros incompletos:\")\n",
        "print(registros_incompletos)\n"
      ],
      "metadata": {
        "colab": {
          "base_uri": "https://localhost:8080/"
        },
        "id": "v1NqX1TBKh5E",
        "outputId": "af410331-0bda-4aa4-cc22-d3bb3c1998dd"
      },
      "execution_count": null,
      "outputs": [
        {
          "output_type": "stream",
          "name": "stdout",
          "text": [
            "\n",
            "Valores nulos en cada columna:\n",
            "Nombre              1\n",
            "Edad                1\n",
            "Fecha Ingreso       0\n",
            "Resultado Prueba    0\n",
            "dtype: int64\n",
            "\n",
            "Datos con formato de fecha estandarizado:\n",
            "   Nombre  Edad Fecha Ingreso Resultado Prueba\n",
            "0  Carlos  34.0    2021-01-15         Positivo\n",
            "1     Ana  29.0    2020-03-12         Negativo\n",
            "2    Luis   NaN    2022-07-01         Positivo\n",
            "3   Pedro  45.0    2021-12-01         Positivo\n",
            "4   María  25.0    2021-05-20         Negativo\n",
            "5    None  33.0    2020-03-12         Negativo\n",
            "\n",
            "Conteo de resultados de prueba:\n",
            "Resultado Prueba\n",
            "Positivo    3\n",
            "Negativo    3\n",
            "Name: count, dtype: int64\n",
            "\n",
            "Registros incompletos:\n",
            "  Nombre  Edad Fecha Ingreso Resultado Prueba\n",
            "2   Luis   NaN    2022-07-01         Positivo\n",
            "5   None  33.0    2020-03-12         Negativo\n"
          ]
        }
      ]
    },
    {
      "cell_type": "markdown",
      "source": [],
      "metadata": {
        "id": "d6lVZ-jhMFXU"
      }
    },
    {
      "cell_type": "code",
      "source": [
        "import pandas as pd\n",
        "\n",
        "# Crear el DataFrame con los datos iniciales\n",
        "datos = {\n",
        "    'Nombre': ['Juan', 'Maria', 'Pedro', 'Ana', 'Luisa', 'Carlos', 'Juan'],\n",
        "    'Edad': [25, 30, None, 29, 28, 200, 25],\n",
        "    'Email': ['juan@mail.com', 'maria@mail.com', 'pedro@mail.com', 'ana@mail.com', 'luisa@mail.com', 'carlos@mail.com', 'juan@mail.com'],\n",
        "    'Pais': ['colombia', 'Colombia', 'Mexico', 'Argentina', 'Colombia', 'Brazil', 'colombia'],\n",
        "    'Genero': ['M', 'F', 'H', 'F', 'Femenino', 'M', 'M'],\n",
        "    'Visitas': [5, 7, 6, 4, 8, 2, 5]\n",
        "}\n",
        "\n",
        "df = pd.DataFrame(datos)\n",
        "\n",
        "# 1. Identificar y manejar valores faltantes\n",
        "print(\"Valores faltantes por columna:\")\n",
        "print(df.isnull().sum())\n",
        "\n",
        "# Rellenar valores faltantes en 'Edad' con la mediana (ignorar valores NaN para el cálculo)\n",
        "df['Edad'] = df['Edad'].fillna(df['Edad'].median())\n",
        "\n",
        "# 2. Eliminar duplicados\n",
        "df = df.drop_duplicates()\n",
        "\n",
        "# 3. Estandarizar los valores de la columna 'Genero'\n",
        "df['Genero'] = df['Genero'].replace({\n",
        "    'M': 'Masculino',\n",
        "    'H': 'Masculino',\n",
        "    'F': 'Femenino',\n",
        "    'Femenino': 'Femenino'\n",
        "})\n",
        "\n",
        "# 4. Normalizar y corregir nombres de países\n",
        "df['Pais'] = df['Pais'].str.lower()  # Convertir a minúsculas\n",
        "correcciones_pais = {\n",
        "    'colombia': 'Colombia',\n",
        "    'mexico': 'México',\n",
        "    'brazil': 'Brasil',\n",
        "    'argentina': 'Argentina'\n",
        "}\n",
        "df['Pais'] = df['Pais'].replace(correcciones_pais)\n",
        "\n",
        "# 5. Manejar valores inválidos\n",
        "# Filtrar filas con edades fuera de un rango razonable (0-120 años)\n",
        "df = df[df['Edad'].between(0, 120)]\n",
        "\n",
        "# Mostrar el DataFrame limpio\n",
        "print(\"\\nDatos limpios:\")\n",
        "print(df)\n",
        "\n"
      ],
      "metadata": {
        "colab": {
          "base_uri": "https://localhost:8080/"
        },
        "id": "0jR7Hs2sMFp7",
        "outputId": "262db0e3-1d59-45f3-ed13-4c0a9dca752f"
      },
      "execution_count": null,
      "outputs": [
        {
          "output_type": "stream",
          "name": "stdout",
          "text": [
            "Valores faltantes por columna:\n",
            "Nombre     0\n",
            "Edad       1\n",
            "Email      0\n",
            "Pais       0\n",
            "Genero     0\n",
            "Visitas    0\n",
            "dtype: int64\n",
            "\n",
            "Datos limpios:\n",
            "  Nombre  Edad           Email       Pais     Genero  Visitas\n",
            "0   Juan  25.0   juan@mail.com   Colombia  Masculino        5\n",
            "1  Maria  30.0  maria@mail.com   Colombia   Femenino        7\n",
            "2  Pedro  28.5  pedro@mail.com     México  Masculino        6\n",
            "3    Ana  29.0    ana@mail.com  Argentina   Femenino        4\n",
            "4  Luisa  28.0  luisa@mail.com   Colombia   Femenino        8\n"
          ]
        }
      ]
    }
  ]
}