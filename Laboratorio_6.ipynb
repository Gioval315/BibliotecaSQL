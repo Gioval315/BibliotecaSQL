{
  "nbformat": 4,
  "nbformat_minor": 0,
  "metadata": {
    "colab": {
      "provenance": [],
      "authorship_tag": "ABX9TyNTKLeyA3UpDqYFKzHQFU+5",
      "include_colab_link": true
    },
    "kernelspec": {
      "name": "python3",
      "display_name": "Python 3"
    },
    "language_info": {
      "name": "python"
    }
  },
  "cells": [
    {
      "cell_type": "markdown",
      "metadata": {
        "id": "view-in-github",
        "colab_type": "text"
      },
      "source": [
        "<a href=\"https://colab.research.google.com/github/Gioval315/BibliotecaSQL/blob/main/Laboratorio_6.ipynb\" target=\"_parent\"><img src=\"https://colab.research.google.com/assets/colab-badge.svg\" alt=\"Open In Colab\"/></a>"
      ]
    },
    {
      "cell_type": "markdown",
      "source": [
        "Desarrollo de laboratorio 6 Phyton"
      ],
      "metadata": {
        "id": "3WqZtcS2ZdMC"
      }
    },
    {
      "cell_type": "code",
      "execution_count": null,
      "metadata": {
        "id": "giwhdMSJZBNy"
      },
      "outputs": [],
      "source": []
    },
    {
      "cell_type": "markdown",
      "source": [
        "Ejercicio 5  5.\tConvertir Grados Celsius a Fahrenheit: Usar una función para convertir grados Celsius a Fahrenheit. La fórmula para la conversión es Fahrenheit = (Celsius * 9/5) + 32."
      ],
      "metadata": {
        "id": "d8APDgB2ZzQT"
      }
    },
    {
      "cell_type": "markdown",
      "source": [
        "## Pasos\n",
        "\n",
        "*   Crear la variable temperatura en grados a celcius\n",
        "*   le decimos al usuario el objeto a programar\n",
        "*   Solicitamos al usuario a los grados celsius\n",
        "*   Validacion de la informacion ingresada por el usuario\n",
        "*   Aplicar formula\n",
        "*   imprimir el resultado\n",
        "\n"
      ],
      "metadata": {
        "id": "Xn1-__MeaeD6"
      }
    },
    {
      "cell_type": "code",
      "source": [
        "\n",
        "print (\"Hola este programa trasforam los grados celsius a fahrenheit\") #Avisamos el objeto a programar\n",
        "\n",
        "dato_usuario = (input(\"ingrese los grados en celsius: \"))\n",
        "\n",
        "Temp_celsius = float(dato_usuario)\n",
        "\n",
        "grados_fahrenheit = (Temp_celsius * 9/5) + 32\n",
        "\n",
        "print('los grados fahrenheit son:  ', grados_fahrenheit)\n",
        "\n"
      ],
      "metadata": {
        "colab": {
          "base_uri": "https://localhost:8080/"
        },
        "id": "Lrav0Jcaakfy",
        "outputId": "5043ac72-09c5-4d80-8f8c-40760a09d99e"
      },
      "execution_count": null,
      "outputs": [
        {
          "output_type": "stream",
          "name": "stdout",
          "text": [
            "Hola este programa trasforam los grados celsius a fahrenheit\n",
            "ingrese los grados en celsius: 15\n",
            "los grados fahrenheit son:   59.0\n"
          ]
        }
      ]
    }
  ]
}